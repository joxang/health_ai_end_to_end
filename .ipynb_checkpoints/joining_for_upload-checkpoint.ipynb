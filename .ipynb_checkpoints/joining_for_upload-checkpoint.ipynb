{
 "cells": [
  {
   "cell_type": "code",
   "execution_count": 1,
   "id": "83fdfb1e",
   "metadata": {},
   "outputs": [],
   "source": [
    "import pandas as pd"
   ]
  },
  {
   "cell_type": "code",
   "execution_count": 2,
   "id": "1537d2b8",
   "metadata": {},
   "outputs": [],
   "source": [
    "clean_up = pd.read_excel('data/__joined_replacement.xlsx', index_col=0)"
   ]
  },
  {
   "cell_type": "code",
   "execution_count": 5,
   "id": "bb00bea2",
   "metadata": {},
   "outputs": [
    {
     "data": {
      "text/plain": [
       "85"
      ]
     },
     "execution_count": 5,
     "metadata": {},
     "output_type": "execute_result"
    }
   ],
   "source": [
    "len(clean_up.columns)"
   ]
  },
  {
   "cell_type": "code",
   "execution_count": 6,
   "id": "37e0c6a1",
   "metadata": {},
   "outputs": [
    {
     "data": {
      "text/html": [
       "<div>\n",
       "<style scoped>\n",
       "    .dataframe tbody tr th:only-of-type {\n",
       "        vertical-align: middle;\n",
       "    }\n",
       "\n",
       "    .dataframe tbody tr th {\n",
       "        vertical-align: top;\n",
       "    }\n",
       "\n",
       "    .dataframe thead th {\n",
       "        text-align: right;\n",
       "    }\n",
       "</style>\n",
       "<table border=\"1\" class=\"dataframe\">\n",
       "  <thead>\n",
       "    <tr style=\"text-align: right;\">\n",
       "      <th></th>\n",
       "      <th>pmid</th>\n",
       "      <th>doi</th>\n",
       "      <th>title</th>\n",
       "      <th>abstract</th>\n",
       "      <th>article_date</th>\n",
       "      <th>pubmed_date</th>\n",
       "      <th>article_type</th>\n",
       "      <th>lang</th>\n",
       "      <th>journal</th>\n",
       "      <th>journal_short</th>\n",
       "      <th>...</th>\n",
       "      <th>spec_renal</th>\n",
       "      <th>affil_countries</th>\n",
       "      <th>affil_countries_unique</th>\n",
       "      <th>affil_first_country</th>\n",
       "      <th>affil_last_country</th>\n",
       "      <th>affil_fill_country</th>\n",
       "      <th>countries_lc</th>\n",
       "      <th>lmic_author_flag</th>\n",
       "      <th>lmic_author_lower_flag</th>\n",
       "      <th>lmic_china_flag</th>\n",
       "    </tr>\n",
       "  </thead>\n",
       "  <tbody>\n",
       "    <tr>\n",
       "      <th>1</th>\n",
       "      <td>35305504</td>\n",
       "      <td>10.1016/j.compbiomed.2022.105340</td>\n",
       "      <td>MultiR-Net: A Novel Joint Learning Network for...</td>\n",
       "      <td>The outbreak of COVID-19 has caused a severe s...</td>\n",
       "      <td>2022-03-11</td>\n",
       "      <td>2022-03-20</td>\n",
       "      <td>Journal Article</td>\n",
       "      <td>eng</td>\n",
       "      <td>Computers in biology and medicine</td>\n",
       "      <td>Comput Biol Med</td>\n",
       "      <td>...</td>\n",
       "      <td>0.0</td>\n",
       "      <td>['China', 'China', 'China', 'China', 'China', ...</td>\n",
       "      <td>['China']</td>\n",
       "      <td>China</td>\n",
       "      <td>China</td>\n",
       "      <td>China</td>\n",
       "      <td>['china']</td>\n",
       "      <td>1.0</td>\n",
       "      <td>0.0</td>\n",
       "      <td>1.0</td>\n",
       "    </tr>\n",
       "    <tr>\n",
       "      <th>2</th>\n",
       "      <td>35305503</td>\n",
       "      <td>10.1016/j.compbiomed.2022.105366</td>\n",
       "      <td>A 65nm/0.448Â mW EEG processor with parallel a...</td>\n",
       "      <td>In recent years, low-power and wearable biomed...</td>\n",
       "      <td>2022-03-09</td>\n",
       "      <td>2022-03-20</td>\n",
       "      <td>Journal Article</td>\n",
       "      <td>eng</td>\n",
       "      <td>Computers in biology and medicine</td>\n",
       "      <td>Comput Biol Med</td>\n",
       "      <td>...</td>\n",
       "      <td>0.0</td>\n",
       "      <td>['China', 'China', 'China', 'China', 'China', ...</td>\n",
       "      <td>['China']</td>\n",
       "      <td>China</td>\n",
       "      <td>China</td>\n",
       "      <td>China</td>\n",
       "      <td>['china']</td>\n",
       "      <td>1.0</td>\n",
       "      <td>0.0</td>\n",
       "      <td>1.0</td>\n",
       "    </tr>\n",
       "    <tr>\n",
       "      <th>4</th>\n",
       "      <td>35305492</td>\n",
       "      <td>10.1016/j.cmpb.2022.106735</td>\n",
       "      <td>A deep learning approach for detection of shal...</td>\n",
       "      <td>Patients with angle-closure glaucoma (ACG) are...</td>\n",
       "      <td>2022-03-06</td>\n",
       "      <td>2022-03-20</td>\n",
       "      <td>Journal Article</td>\n",
       "      <td>eng</td>\n",
       "      <td>Computer methods and programs in biomedicine</td>\n",
       "      <td>Comput Methods Programs Biomed</td>\n",
       "      <td>...</td>\n",
       "      <td>0.0</td>\n",
       "      <td>['South Korea', 'South Korea', 'South Korea', ...</td>\n",
       "      <td>['South Korea']</td>\n",
       "      <td>South Korea</td>\n",
       "      <td>South Korea</td>\n",
       "      <td>South Korea</td>\n",
       "      <td>['south korea']</td>\n",
       "      <td>0.0</td>\n",
       "      <td>0.0</td>\n",
       "      <td>0.0</td>\n",
       "    </tr>\n",
       "    <tr>\n",
       "      <th>5</th>\n",
       "      <td>35305447</td>\n",
       "      <td>10.1016/j.media.2022.102413</td>\n",
       "      <td>An attention-based hybrid deep learning framew...</td>\n",
       "      <td>Functional magnetic resonance imaging (fMRI) a...</td>\n",
       "      <td>2022-03-02</td>\n",
       "      <td>2022-03-20</td>\n",
       "      <td>Journal Article</td>\n",
       "      <td>eng</td>\n",
       "      <td>Medical image analysis</td>\n",
       "      <td>Med Image Anal</td>\n",
       "      <td>...</td>\n",
       "      <td>0.0</td>\n",
       "      <td>['China', 'Georgia', 'United States', 'China',...</td>\n",
       "      <td>['Georgia', 'United States', 'China']</td>\n",
       "      <td>China</td>\n",
       "      <td>China</td>\n",
       "      <td>China</td>\n",
       "      <td>['georgia', 'united states', 'china']</td>\n",
       "      <td>1.0</td>\n",
       "      <td>0.0</td>\n",
       "      <td>1.0</td>\n",
       "    </tr>\n",
       "    <tr>\n",
       "      <th>8</th>\n",
       "      <td>35305027</td>\n",
       "      <td>10.1002/mp.15549</td>\n",
       "      <td>An original deep learning model using limited ...</td>\n",
       "      <td>Artificial intelligence (AI) has been proved t...</td>\n",
       "      <td>2022-03-19</td>\n",
       "      <td>2022-03-20</td>\n",
       "      <td>Journal Article</td>\n",
       "      <td>eng</td>\n",
       "      <td>Medical physics</td>\n",
       "      <td>Med Phys</td>\n",
       "      <td>...</td>\n",
       "      <td>0.0</td>\n",
       "      <td>['China', 'China', 'China', 'China', 'China', ...</td>\n",
       "      <td>['China']</td>\n",
       "      <td>China</td>\n",
       "      <td>China</td>\n",
       "      <td>China</td>\n",
       "      <td>['china']</td>\n",
       "      <td>1.0</td>\n",
       "      <td>0.0</td>\n",
       "      <td>1.0</td>\n",
       "    </tr>\n",
       "  </tbody>\n",
       "</table>\n",
       "<p>5 rows × 85 columns</p>\n",
       "</div>"
      ],
      "text/plain": [
       "       pmid                               doi  \\\n",
       "1  35305504  10.1016/j.compbiomed.2022.105340   \n",
       "2  35305503  10.1016/j.compbiomed.2022.105366   \n",
       "4  35305492        10.1016/j.cmpb.2022.106735   \n",
       "5  35305447       10.1016/j.media.2022.102413   \n",
       "8  35305027                  10.1002/mp.15549   \n",
       "\n",
       "                                               title  \\\n",
       "1  MultiR-Net: A Novel Joint Learning Network for...   \n",
       "2  A 65nm/0.448Â mW EEG processor with parallel a...   \n",
       "4  A deep learning approach for detection of shal...   \n",
       "5  An attention-based hybrid deep learning framew...   \n",
       "8  An original deep learning model using limited ...   \n",
       "\n",
       "                                            abstract article_date pubmed_date  \\\n",
       "1  The outbreak of COVID-19 has caused a severe s...   2022-03-11  2022-03-20   \n",
       "2  In recent years, low-power and wearable biomed...   2022-03-09  2022-03-20   \n",
       "4  Patients with angle-closure glaucoma (ACG) are...   2022-03-06  2022-03-20   \n",
       "5  Functional magnetic resonance imaging (fMRI) a...   2022-03-02  2022-03-20   \n",
       "8  Artificial intelligence (AI) has been proved t...   2022-03-19  2022-03-20   \n",
       "\n",
       "      article_type lang                                       journal  \\\n",
       "1  Journal Article  eng             Computers in biology and medicine   \n",
       "2  Journal Article  eng             Computers in biology and medicine   \n",
       "4  Journal Article  eng  Computer methods and programs in biomedicine   \n",
       "5  Journal Article  eng                        Medical image analysis   \n",
       "8  Journal Article  eng                               Medical physics   \n",
       "\n",
       "                    journal_short  ... spec_renal  \\\n",
       "1                 Comput Biol Med  ...        0.0   \n",
       "2                 Comput Biol Med  ...        0.0   \n",
       "4  Comput Methods Programs Biomed  ...        0.0   \n",
       "5                  Med Image Anal  ...        0.0   \n",
       "8                        Med Phys  ...        0.0   \n",
       "\n",
       "                                     affil_countries  \\\n",
       "1  ['China', 'China', 'China', 'China', 'China', ...   \n",
       "2  ['China', 'China', 'China', 'China', 'China', ...   \n",
       "4  ['South Korea', 'South Korea', 'South Korea', ...   \n",
       "5  ['China', 'Georgia', 'United States', 'China',...   \n",
       "8  ['China', 'China', 'China', 'China', 'China', ...   \n",
       "\n",
       "                  affil_countries_unique affil_first_country  \\\n",
       "1                              ['China']               China   \n",
       "2                              ['China']               China   \n",
       "4                        ['South Korea']         South Korea   \n",
       "5  ['Georgia', 'United States', 'China']               China   \n",
       "8                              ['China']               China   \n",
       "\n",
       "  affil_last_country affil_fill_country  \\\n",
       "1              China              China   \n",
       "2              China              China   \n",
       "4        South Korea        South Korea   \n",
       "5              China              China   \n",
       "8              China              China   \n",
       "\n",
       "                            countries_lc  lmic_author_flag  \\\n",
       "1                              ['china']               1.0   \n",
       "2                              ['china']               1.0   \n",
       "4                        ['south korea']               0.0   \n",
       "5  ['georgia', 'united states', 'china']               1.0   \n",
       "8                              ['china']               1.0   \n",
       "\n",
       "   lmic_author_lower_flag  lmic_china_flag  \n",
       "1                     0.0              1.0  \n",
       "2                     0.0              1.0  \n",
       "4                     0.0              0.0  \n",
       "5                     0.0              1.0  \n",
       "8                     0.0              1.0  \n",
       "\n",
       "[5 rows x 85 columns]"
      ]
     },
     "execution_count": 6,
     "metadata": {},
     "output_type": "execute_result"
    }
   ],
   "source": [
    "clean_up.head()"
   ]
  },
  {
   "cell_type": "code",
   "execution_count": 7,
   "id": "a971abe0",
   "metadata": {},
   "outputs": [],
   "source": [
    "clean_up.to_csv('data/cleaned_up.csv')"
   ]
  },
  {
   "cell_type": "code",
   "execution_count": null,
   "id": "530a4137",
   "metadata": {},
   "outputs": [],
   "source": []
  },
  {
   "cell_type": "code",
   "execution_count": null,
   "id": "8f3e6477",
   "metadata": {},
   "outputs": [],
   "source": []
  },
  {
   "cell_type": "code",
   "execution_count": 3,
   "id": "258562e3",
   "metadata": {},
   "outputs": [],
   "source": [
    "final_include = pd.read_csv('data/final_raw.csv', index_col=0)"
   ]
  },
  {
   "cell_type": "code",
   "execution_count": 4,
   "id": "ab6467ee",
   "metadata": {},
   "outputs": [],
   "source": [
    "all_scraped = pd.read_csv('data/scraped_raw.csv', index_col=0)"
   ]
  },
  {
   "cell_type": "code",
   "execution_count": 5,
   "id": "dd143011",
   "metadata": {},
   "outputs": [
    {
     "data": {
      "text/plain": [
       "42307"
      ]
     },
     "execution_count": 5,
     "metadata": {},
     "output_type": "execute_result"
    }
   ],
   "source": [
    "len(final_include)"
   ]
  },
  {
   "cell_type": "code",
   "execution_count": 6,
   "id": "5d4dd59d",
   "metadata": {},
   "outputs": [
    {
     "data": {
      "text/plain": [
       "192961"
      ]
     },
     "execution_count": 6,
     "metadata": {},
     "output_type": "execute_result"
    }
   ],
   "source": [
    "len(all_scraped)"
   ]
  },
  {
   "cell_type": "code",
   "execution_count": 12,
   "id": "eb1251f2",
   "metadata": {},
   "outputs": [
    {
     "data": {
      "text/plain": [
       "42307"
      ]
     },
     "execution_count": 12,
     "metadata": {},
     "output_type": "execute_result"
    }
   ],
   "source": [
    "len(final_include[final_include['pmid'].isin(all_scraped['pmid'])])"
   ]
  },
  {
   "cell_type": "code",
   "execution_count": 17,
   "id": "8ffa697a",
   "metadata": {},
   "outputs": [
    {
     "name": "stdout",
     "output_type": "stream",
     "text": [
      "192961\n"
     ]
    }
   ],
   "source": [
    "unmatched = all_scraped[all_scraped['pmid'].isin(final_include['pmid']) == False]\n",
    "\n",
    "print(len(unmatched) + len(final_include))"
   ]
  },
  {
   "cell_type": "code",
   "execution_count": 18,
   "id": "ceb36d43",
   "metadata": {},
   "outputs": [],
   "source": [
    "joined = pd.concat([final_include, unmatched])"
   ]
  },
  {
   "cell_type": "code",
   "execution_count": 20,
   "id": "95d39c1b",
   "metadata": {},
   "outputs": [],
   "source": [
    "joined['include'] = joined['include'].fillna(0)"
   ]
  },
  {
   "cell_type": "code",
   "execution_count": 21,
   "id": "c9c00c63",
   "metadata": {
    "scrolled": true
   },
   "outputs": [
    {
     "name": "stdout",
     "output_type": "stream",
     "text": [
      "<class 'pandas.core.frame.DataFrame'>\n",
      "Int64Index: 192961 entries, 1 to 192960\n",
      "Data columns (total 85 columns):\n",
      " #   Column                  Non-Null Count   Dtype  \n",
      "---  ------                  --------------   -----  \n",
      " 0   pmid                    192961 non-null  int64  \n",
      " 1   doi                     155606 non-null  object \n",
      " 2   title                   192919 non-null  object \n",
      " 3   abstract                182927 non-null  object \n",
      " 4   article_date            135075 non-null  object \n",
      " 5   pubmed_date             192961 non-null  object \n",
      " 6   article_type            192961 non-null  object \n",
      " 7   lang                    192961 non-null  object \n",
      " 8   journal                 192961 non-null  object \n",
      " 9   journal_short           192961 non-null  object \n",
      " 10  journal_country         192957 non-null  object \n",
      " 11  authors                 190293 non-null  object \n",
      " 12  author_affils           125263 non-null  object \n",
      " 13  keywords                87283 non-null   object \n",
      " 14  mesh_terms              154072 non-null  object \n",
      " 15  references_pmids        84493 non-null   object \n",
      " 16  feature                 42307 non-null   object \n",
      " 17  year                    42307 non-null   float64\n",
      " 18  include                 192961 non-null  float64\n",
      " 19  mature                  42307 non-null   float64\n",
      " 20  algo_neural_net         42307 non-null   float64\n",
      " 21  algo_support_vector     42307 non-null   float64\n",
      " 22  algo_regression         42307 non-null   float64\n",
      " 23  algo_decision_tree      42307 non-null   float64\n",
      " 24  feat_xr                 42307 non-null   float64\n",
      " 25  feat_ct                 42307 non-null   float64\n",
      " 26  feat_mri                42307 non-null   float64\n",
      " 27  feat_eeg                42307 non-null   float64\n",
      " 28  feat_ecg                42307 non-null   float64\n",
      " 29  feat_emg                42307 non-null   float64\n",
      " 30  feat_us                 42307 non-null   float64\n",
      " 31  feat_echo               42307 non-null   float64\n",
      " 32  feat_histo              42307 non-null   float64\n",
      " 33  feat_oct                42307 non-null   float64\n",
      " 34  feat_mamm               42307 non-null   float64\n",
      " 35  feat_endoscop           42307 non-null   float64\n",
      " 36  feat_gene               42307 non-null   float64\n",
      " 37  feat_bio                42307 non-null   float64\n",
      " 38  feat_nlp                42307 non-null   float64\n",
      " 39  feat_ehr                42307 non-null   float64\n",
      " 40  subspec_icu             42307 non-null   float64\n",
      " 41  subspec_ed              42307 non-null   float64\n",
      " 42  spec_paeds              42307 non-null   float64\n",
      " 43  spec_id                 42307 non-null   float64\n",
      " 44  subspec_sepsis          42307 non-null   float64\n",
      " 45  subspec_cov19           42307 non-null   float64\n",
      " 46  subspec_dermca          42307 non-null   float64\n",
      " 47  spec_onc                42307 non-null   float64\n",
      " 48  subspec_lungca          42307 non-null   float64\n",
      " 49  subspec_brainca         42307 non-null   float64\n",
      " 50  subspec_gica            42307 non-null   float64\n",
      " 51  subspec_hepca           42307 non-null   float64\n",
      " 52  subspec_prosca          42307 non-null   float64\n",
      " 53  subspec_gynonc          42307 non-null   float64\n",
      " 54  subspec_haemonc         42307 non-null   float64\n",
      " 55  subspec_breastca        42307 non-null   float64\n",
      " 56  subspec_urology         42307 non-null   float64\n",
      " 57  spec_psych              42307 non-null   float64\n",
      " 58  spec_msk                42307 non-null   float64\n",
      " 59  spec_gi                 42307 non-null   float64\n",
      " 60  spec_hep                42307 non-null   float64\n",
      " 61  spec_resp               42307 non-null   float64\n",
      " 62  subspec_pneum           42307 non-null   float64\n",
      " 63  spec_neuro              42307 non-null   float64\n",
      " 64  subspec_epilep          42307 non-null   float64\n",
      " 65  subspec_cva             42307 non-null   float64\n",
      " 66  subspec_alzh            42307 non-null   float64\n",
      " 67  spec_cvs                42307 non-null   float64\n",
      " 68  subspec_ihd             42307 non-null   float64\n",
      " 69  subspec_hf              42307 non-null   float64\n",
      " 70  subspec_arrhyt          42307 non-null   float64\n",
      " 71  spec_dm                 42307 non-null   float64\n",
      " 72  subspec_retina          42307 non-null   float64\n",
      " 73  spec_haem               42307 non-null   float64\n",
      " 74  spec_obs                42307 non-null   float64\n",
      " 75  spec_renal              42307 non-null   float64\n",
      " 76  affil_countries         42019 non-null   object \n",
      " 77  affil_countries_unique  42019 non-null   object \n",
      " 78  affil_first_country     30811 non-null   object \n",
      " 79  affil_last_country      30779 non-null   object \n",
      " 80  affil_fill_country      42307 non-null   object \n",
      " 81  countries_lc            42019 non-null   object \n",
      " 82  lmic_author_flag        42307 non-null   float64\n",
      " 83  lmic_author_lower_flag  42307 non-null   float64\n",
      " 84  lmic_china_flag         42307 non-null   float64\n",
      "dtypes: float64(62), int64(1), object(22)\n",
      "memory usage: 126.6+ MB\n"
     ]
    }
   ],
   "source": [
    "joined.info()"
   ]
  },
  {
   "cell_type": "code",
   "execution_count": 23,
   "id": "ff982d1c",
   "metadata": {},
   "outputs": [],
   "source": [
    "joined.to_csv('data/__joined_replacement.csv')"
   ]
  },
  {
   "cell_type": "code",
   "execution_count": null,
   "id": "ff7a9fc9",
   "metadata": {},
   "outputs": [],
   "source": []
  }
 ],
 "metadata": {
  "kernelspec": {
   "display_name": "Python 3",
   "language": "python",
   "name": "python3"
  },
  "language_info": {
   "codemirror_mode": {
    "name": "ipython",
    "version": 3
   },
   "file_extension": ".py",
   "mimetype": "text/x-python",
   "name": "python",
   "nbconvert_exporter": "python",
   "pygments_lexer": "ipython3",
   "version": "3.8.8"
  }
 },
 "nbformat": 4,
 "nbformat_minor": 5
}
