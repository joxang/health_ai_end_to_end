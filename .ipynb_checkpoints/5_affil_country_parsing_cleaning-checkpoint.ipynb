{
 "cells": [
  {
   "cell_type": "code",
   "execution_count": 1,
   "id": "43bca03e-485d-46a4-9491-9b855e117c95",
   "metadata": {},
   "outputs": [],
   "source": [
    "import pandas as pd\n",
    "import numpy as np\n",
    "import ast\n",
    "from tqdm import tqdm\n",
    "import sys\n",
    "import time\n",
    "\n",
    "from flashgeotext.geotext import GeoText\n",
    "from geopy.geocoders import Nominatim"
   ]
  },
  {
   "cell_type": "code",
   "execution_count": 2,
   "id": "31efdb00-8a30-41e7-bad9-2cc784d8d691",
   "metadata": {},
   "outputs": [],
   "source": [
    "articles = pd.read_csv('data/char_labelled.csv', index_col=0)"
   ]
  },
  {
   "cell_type": "code",
   "execution_count": 3,
   "id": "bde28482-c7a5-4537-9553-56ccb2a5b20b",
   "metadata": {},
   "outputs": [],
   "source": [
    "articles.authors = articles.authors.apply(lambda x: ast.literal_eval(x) if type(x) == str else x)\n",
    "articles.author_affils = articles.author_affils.apply(lambda x: ast.literal_eval(x) if type(x) == str else x)\n",
    "articles.keywords = articles.keywords.apply(lambda x: ast.literal_eval(x) if type(x) == str else x)\n",
    "articles.references_pmids = articles.references_pmids.apply(lambda x: ast.literal_eval(x) if type(x) == str else x)\n",
    "articles.mesh_terms = articles.mesh_terms.apply(lambda x: ast.literal_eval(x) if type(x) == str else x)"
   ]
  },
  {
   "cell_type": "code",
   "execution_count": 4,
   "id": "13878b4a-3650-435d-b02e-5cba7e3a419a",
   "metadata": {},
   "outputs": [],
   "source": [
    "articles['affil_countries'] = np.nan\n",
    "articles['affil_countries'] = articles['affil_countries'].astype(object)\n",
    "articles['affil_countries_unique'] = np.nan\n",
    "articles['affil_countries_unique'] = articles['affil_countries'].astype(object)\n",
    "articles['affil_first_country'] = np.nan\n",
    "articles['affil_last_country'] = np.nan"
   ]
  },
  {
   "cell_type": "code",
   "execution_count": 5,
   "id": "05526e85-6156-4d3e-8180-e14ddc5c950d",
   "metadata": {},
   "outputs": [],
   "source": [
    "def find_affil_countries(affils: list, retry_count = 5):\n",
    "    \n",
    "    geolocator = Nominatim(user_agent='health_ai_scraper')\n",
    "    geotext = GeoText()\n",
    "    \n",
    "    if affils == affils: # Check to make sure not NaN\n",
    "        country_list = []\n",
    "        location = None\n",
    "        \n",
    "        last_affil = None\n",
    "        last_country = None\n",
    "        \n",
    "        try_count = 0\n",
    "    \n",
    "        for affil in affils:\n",
    "            if affil == last_affil: # Check to see if we've seen this before and take a shortcut if we have\n",
    "                country_list = country_list + last_country\n",
    "\n",
    "            else:\n",
    "                while try_count < retry_count:\n",
    "                    try:\n",
    "                        last_affil = affil # Set that we've examined this affil\n",
    "                \n",
    "                        countries = [*geotext.extract(input_text=affil, span_info=False)['countries'].keys()] # Look for countries\n",
    "                \n",
    "                        if (len(countries) == 0): # If we dont find a country look harder\n",
    "                            cities = [*geotext.extract(input_text=affil, span_info=False)['cities'].keys()]\n",
    "                            if len(cities) > 0:\n",
    "                                location = geolocator.geocode(cities[-1])\n",
    "                            else:\n",
    "                                location = geolocator.geocode(' '.join(affil.split(\" \")[-2:]))\n",
    "                                if location == None:\n",
    "                                    location = geolocator.geocode(affil)\n",
    "                                    if location == None:\n",
    "                                        tqdm.write(\"Can't find a country for:\")\n",
    "                                        tqdm.write(affil)\n",
    "                                        country_list = country_list + [np.nan]\n",
    "                                        last_country = [np.nan]\n",
    "                            \n",
    "                        else: # If we do find a country then att it to the list and set the last_country variable\n",
    "                            country_list = country_list + countries\n",
    "                            last_country = countries\n",
    "        \n",
    "                        if location != None: # If we found an address using the other search techniques\n",
    "                            countries = [*geotext.extract(input_text=location.address, span_info=False)['countries'].keys()]\n",
    "                            country_list = country_list + countries\n",
    "                            last_country = countries\n",
    "                            \n",
    "                        break\n",
    "                            \n",
    "                    except:\n",
    "                        try_count += 1\n",
    "                        tqdm.write(f\"Error parsing {affil}, trying again for a maximum of 5 times.\")\n",
    "                        \n",
    "    else: # If the affil is NaN then make the country list NaN\n",
    "        country_list = [np.nan]\n",
    "        \n",
    "    unique_countries = list(set(country_list))\n",
    "    first_affil_country = country_list[0]\n",
    "    last_affil_country = country_list[-1]    \n",
    "        \n",
    "    return country_list, unique_countries, first_affil_country, last_affil_country"
   ]
  },
  {
   "cell_type": "code",
   "execution_count": 6,
   "id": "bdaa7b33-d359-4a9f-847a-eea334840ced",
   "metadata": {},
   "outputs": [],
   "source": [
    "def parse_affil_countries(df, max_consecutive_failures = 5, filter_column = 'include'):\n",
    "    \n",
    "    consecutive_failures = 0\n",
    "    \n",
    "    country_df = df.copy()\n",
    "    \n",
    "    country_df['affil_countries'] = np.nan\n",
    "    country_df['affil_countries_unique'] = np.nan\n",
    "    country_df['affil_countries_first'] = np.nan\n",
    "    country_df['affil_countries_last'] = np.nan\n",
    "    \n",
    "    with tqdm(total=country_df.shape[0], file=sys.stdout) as pbar:\n",
    "        for row in country_df[country_df[filter_column] == 1].itertuples():\n",
    "\n",
    "            try:\n",
    "                affils = row.author_affils\n",
    "    \n",
    "                country_list, unique_countries, first_affil_country, last_affil_country = find_affil_countries(affils)\n",
    "    \n",
    "                country_df.loc[row.Index, 'affil_countries'] = str(country_list)\n",
    "                country_df.loc[row.Index, 'affil_countries_unique'] = str(list(set(country_list)))\n",
    "                country_df.loc[row.Index, 'affil_countries_first'] = country_list[0]\n",
    "                country_df.loc[row.Index, 'affil_countries_last'] = country_list[-1]\n",
    "            \n",
    "                consecutive_failures = 0\n",
    "        \n",
    "            except Exception as e:\n",
    "                tqdm.write(e)\n",
    "                consecutive_failures += 1\n",
    "                if consecutive_failures >=  max_consecutive_failures:\n",
    "                    tqdm.write(\"Failed too many in a row, something is broken, stopping and returning possibly partially labelled DF...\")\n",
    "                    break\n",
    "                \n",
    "            pbar.update(1)\n",
    "            \n",
    "    country_df.replace(\"[nan]\", np.nan, inplace=True)\n",
    "            \n",
    "    return country_df"
   ]
  },
  {
   "cell_type": "code",
   "execution_count": null,
   "id": "bfa25a92-e12d-42fb-aeed-05faac99ad75",
   "metadata": {},
   "outputs": [
    {
     "name": "stdout",
     "output_type": "stream",
     "text": [
      "  0%|                                                                             | 37/34179 [00:17<4:16:22,  2.22it/s]"
     ]
    }
   ],
   "source": [
    "consecutive_failures = 0\n",
    "\n",
    "with tqdm(total=articles.shape[0], file=sys.stdout) as pbar:\n",
    "    for row in articles.itertuples():\n",
    "\n",
    "        try:\n",
    "            affils = row.author_affils\n",
    "    \n",
    "            country_list, unique_countries, first_affil_country, last_affil_country = find_affil_countries(affils)\n",
    "    \n",
    "            articles.loc[row.Index, 'affil_countries'] = str(country_list)\n",
    "            articles.loc[row.Index, 'affil_countries_unique'] = str(list(set(country_list)))\n",
    "            articles.loc[row.Index, 'affil_first_country'] = country_list[0]\n",
    "            articles.loc[row.Index, 'affil_last_country'] = country_list[-1]\n",
    "            \n",
    "            consecutive_failures = 0\n",
    "        \n",
    "        except:\n",
    "            consecutive_failures += 1\n",
    "            if consecutive_failures > 5:\n",
    "                print(\"Failed too many in a row, something is broken, stopping...\")\n",
    "                break\n",
    "            time.sleep(5)\n",
    "                \n",
    "        pbar.update(1)"
   ]
  },
  {
   "cell_type": "markdown",
   "id": "4a90aa00",
   "metadata": {},
   "source": [
    "## CLEAN"
   ]
  },
  {
   "cell_type": "code",
   "execution_count": null,
   "id": "261b1fd5",
   "metadata": {},
   "outputs": [],
   "source": [
    "## using first affiliation as primary country\n",
    "## fill first with data from last author, then with pubmed country metadata\n",
    "articles['affil_first_country'] = articles['affil_first_country'].fillna(articles['affil_last_country'])\n",
    "articles['affil_first_country'] = articles['affil_first_country'].fillna(articles['journal_country'])\n",
    "\n",
    "articles['affil_first_country'] = articles['affil_first_country'].astype('string')"
   ]
  },
  {
   "cell_type": "code",
   "execution_count": null,
   "id": "e6e2554e",
   "metadata": {},
   "outputs": [],
   "source": [
    "##clean countries\n",
    "articles[\"affil_first_country\"].replace({\"England\": \"United Kingdom\", \n",
    "                                             \"Wales\": \"United Kingdom\", \n",
    "                                             \"Scotland\": \"United Kingdom\", \n",
    "                                             \"China (Republic : 1949- )\" : \"Taiwan\"}, inplace=True)\n",
    "\n",
    "articles['affil_first_country'].value_counts()"
   ]
  },
  {
   "cell_type": "code",
   "execution_count": null,
   "id": "ef06a76c",
   "metadata": {},
   "outputs": [],
   "source": [
    "##lowercasing list of ANY author\n",
    "articles['countries_lc'] = articles['affil_countries_unique'].str.lower()"
   ]
  },
  {
   "cell_type": "code",
   "execution_count": null,
   "id": "e4c6effa",
   "metadata": {},
   "outputs": [],
   "source": [
    "lmic_list = [\"afghanistan\", \"burundi\", \"burkina faso\", \"central african republic\", \"congo\", \"eritrea\", \n",
    "             \"ethiopia\", \"guinea\", \"gambia\", \"guinea-bissau\", \"liberia\", \"madagascar\", \"mali\", \"mozambique\", \"malawi\", \n",
    "             \"niger\", \"north korea\", \"democratic republic of korea\", \"rwanda\", \"sudan\", \"sierra leone\", \"somalia\", \"south sudan\", \"syrian arab republic\", \n",
    "             \"chad\", \"togo\", \"uganda\", \"yemen\", \"angola\", \"benin\", \"bangladesh\", \"belize\", \"bolivia\", \"bhutan\", \n",
    "             \"cote d'ivoire\", \"ivory coast\", \"cameroon\", \"congo\", \"comoros\", \"cabo verde\", \"djibouti\", \"algeria\", \"egypt\", \n",
    "             \"micronesia\", \"ghana\", \"honduras\", \"haiti\", \"indonesia\", \"india\", \"iran\", \"kenya\", \n",
    "             \"kyrgyz republic\", \"cambodia\", \"kiribati\", \"lao\", \"sri lanka\", \"lesotho\", \"morocco\", \"myanmar\", \"mongolia\", \n",
    "             \"mauritania\", \"nigeria\", \"nicaragua\", \"nepal\", \"pakistan\", \"philippines\", \"papua new guinea\", \n",
    "             \"west bank and gaza\", \"palestinbe\", \"senegal\", \"solomon islands\", \"el salvador\", \"sao tome\", \"eswatini\", \n",
    "             \"tajikistan\", \"timor-leste\", \"tunisia\", \"tanzania\", \"ukraine\", \"uzbekistan\", \"vietnam\", \"vanuatu\", \"samoa\", \n",
    "             \"zambia\", \"zimbabwe\", \"albania\", \"argentina\", \"armenia\", \"american samoa\", \"azerbaijan\", \"bulgaria\", \n",
    "             \"bosnia\", \"belarus\", \"brazil\", \"botswana\", \"china\", \"colombia\", \"costa rica\", \"cuba\", \n",
    "             \"dominica\", \"dominican republic\", \"ecuador\", \"fiji\", \"gabon\", \"georgia\", \"equatorial guinea\", \"grenada\", \n",
    "             \"guatemala\", \"guyana\", \"iraq\", \"jamaica\", \"jordan\", \"kazakhstan\", \"lebanon\", \"libya\", \"lucia\", \"moldova\", \n",
    "             \"maldives\", \"mexico\", \"marshall islands\", \"north macedonia\", \"montenegro\", \"mauritius\", \"malaysia\", \"namibia\", \n",
    "             \"panama\", \"peru\", \"paraguay\", \"romania\", \"russian federation\", \"russia\", \"serbia\", \"suriname\", \"thailand\", \"turkmenistan\", \n",
    "             \"tonga\", \"turkey\", \"tuvalu\", \"st. vincent\", \"grenadines\", \"kosovo\", \"south africa\", \"venezuela\"]"
   ]
  },
  {
   "cell_type": "code",
   "execution_count": null,
   "id": "55f4149e",
   "metadata": {},
   "outputs": [],
   "source": [
    "lmic_lower_list = [\"afghanistan\", \"burundi\", \"burkina faso\", \"central african republic\", \"congo\", \"eritrea\", \n",
    "             \"ethiopia\", \"guinea\", \"gambia\", \"guinea-bissau\", \"liberia\", \"madagascar\", \"mali\", \"mozambique\", \"malawi\", \n",
    "             \"niger\", \"north korea\", \"democratic republic of korea\", \"rwanda\", \"sudan\", \"sierra leone\", \"somalia\", \"south sudan\", \"syrian arab republic\", \n",
    "             \"chad\", \"togo\", \"uganda\", \"yemen\", \"angola\", \"benin\", \"bangladesh\", \"belize\", \"bolivia\", \"bhutan\", \n",
    "             \"cote d'ivoire\", \"ivory coast\", \"cameroon\", \"congo\", \"comoros\", \"cabo verde\", \"djibouti\", \"algeria\", \"egypt\", \n",
    "             \"micronesia\", \"ghana\", \"honduras\", \"haiti\", \"indonesia\", \"india\", \"iran\", \"kenya\", \n",
    "             \"kyrgyz republic\", \"cambodia\", \"kiribati\", \"lao\", \"sri lanka\", \"lesotho\", \"morocco\", \"myanmar\", \"mongolia\", \n",
    "             \"mauritania\", \"nigeria\", \"nicaragua\", \"nepal\", \"pakistan\", \"philippines\", \"papua new guinea\", \n",
    "             \"west bank and gaza\", \"palestinbe\", \"senegal\", \"solomon islands\", \"el salvador\", \"sao tome\", \"eswatini\", \n",
    "             \"tajikistan\", \"timor-leste\", \"tunisia\", \"tanzania\", \"ukraine\", \"uzbekistan\", \"vietnam\", \"vanuatu\", \"samoa\", \n",
    "             \"zambia\", \"zimbabwe\"]"
   ]
  },
  {
   "cell_type": "code",
   "execution_count": null,
   "id": "ac05cebb",
   "metadata": {},
   "outputs": [],
   "source": [
    "##flags for ANY author\n",
    "\n",
    "#initiate\n",
    "article['lmic_author_flag'] = np.where(article['countries_lc'].str.contains('iran'), \"1\", \"0\")\n",
    "article['lmic_author_lower_flag'] = np.where(article['countries_lc'].str.contains('iran'), \"1\", \"0\")\n",
    "article['lmic_china_flag'] = np.where(article['countries_lc'].str.contains('china'), \"1\", \"0\")\n",
    "\n",
    "#use lists\n",
    "for x in lmic_list:\n",
    "    article['lmic_author_flag'] = np.where(article['countries_lc'].str.contains(x), \"1\", article['lmic_author_flag'])\n",
    "    \n",
    "for y in lmic_lower_list:\n",
    "    article['lmic_author_lower_flag'] = np.where(article['countries_lc'].str.contains(x), \"1\", article['lmic_author_lower_flag'])"
   ]
  },
  {
   "cell_type": "code",
   "execution_count": null,
   "id": "060d1e6e",
   "metadata": {},
   "outputs": [],
   "source": [
    "## new column for year, and year+month\n",
    "article['year'] = article['pubmed_date'].dt.year"
   ]
  }
 ],
 "metadata": {
  "kernelspec": {
   "display_name": "Python 3",
   "language": "python",
   "name": "python3"
  },
  "language_info": {
   "codemirror_mode": {
    "name": "ipython",
    "version": 3
   },
   "file_extension": ".py",
   "mimetype": "text/x-python",
   "name": "python",
   "nbconvert_exporter": "python",
   "pygments_lexer": "ipython3",
   "version": "3.8.8"
  }
 },
 "nbformat": 4,
 "nbformat_minor": 5
}
