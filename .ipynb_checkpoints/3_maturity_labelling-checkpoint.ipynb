{
 "cells": [
  {
   "cell_type": "code",
   "execution_count": 1,
   "id": "d0d403c7",
   "metadata": {},
   "outputs": [],
   "source": [
    "import os\n",
    "import shutil\n",
    "import sys\n",
    "from tqdm import tqdm\n",
    "\n",
    "import tensorflow as tf\n",
    "import tensorflow_hub as hub\n",
    "import tensorflow_text as text\n",
    "from official.nlp import optimization  # to create AdamW optimizer\n",
    "\n",
    "tf.get_logger().setLevel('ERROR')"
   ]
  },
  {
   "cell_type": "code",
   "execution_count": 2,
   "id": "d6838b41",
   "metadata": {},
   "outputs": [],
   "source": [
    "import pandas as pd\n",
    "import numpy as np\n",
    "import matplotlib.pyplot as plt\n",
    "import seaborn as sns\n",
    "import re\n",
    "import nltk\n",
    "\n",
    "#for BERT\n",
    "import transformers"
   ]
  },
  {
   "cell_type": "code",
   "execution_count": 3,
   "id": "4510e657",
   "metadata": {},
   "outputs": [
    {
     "name": "stdout",
     "output_type": "stream",
     "text": [
      "[name: \"/device:CPU:0\"\n",
      "device_type: \"CPU\"\n",
      "memory_limit: 268435456\n",
      "locality {\n",
      "}\n",
      "incarnation: 15838796034612933057\n",
      ", name: \"/device:GPU:0\"\n",
      "device_type: \"GPU\"\n",
      "memory_limit: 22723493888\n",
      "locality {\n",
      "  bus_id: 1\n",
      "  links {\n",
      "  }\n",
      "}\n",
      "incarnation: 4212270416112766604\n",
      "physical_device_desc: \"device: 0, name: NVIDIA GeForce RTX 3090, pci bus id: 0000:01:00.0, compute capability: 8.6\"\n",
      "]\n",
      "2.5.0\n"
     ]
    }
   ],
   "source": [
    "from tensorflow.python.client import device_lib\n",
    "print(device_lib.list_local_devices())\n",
    "print(tf.__version__)"
   ]
  },
  {
   "cell_type": "code",
   "execution_count": 4,
   "id": "575ce426",
   "metadata": {},
   "outputs": [],
   "source": [
    "# GPU options to limit OOM erors\n",
    "physical_devices = tf.config.experimental.list_physical_devices('GPU')\n",
    "tf.config.experimental.set_memory_growth(physical_devices[0], True)"
   ]
  },
  {
   "cell_type": "markdown",
   "id": "862bb192",
   "metadata": {},
   "source": [
    "## Reload model"
   ]
  },
  {
   "cell_type": "code",
   "execution_count": 5,
   "id": "e03214bc",
   "metadata": {},
   "outputs": [],
   "source": [
    "#RELOAD MODEL\n",
    "\n",
    "saved_model_path = 'models/maturity_bert'\n",
    "\n",
    "reloaded_model = tf.saved_model.load(saved_model_path)"
   ]
  },
  {
   "cell_type": "code",
   "execution_count": 6,
   "id": "40e5e78d",
   "metadata": {},
   "outputs": [
    {
     "data": {
      "text/plain": [
       "<tensorflow.python.saved_model.load.Loader._recreate_base_user_object.<locals>._UserObject at 0x22117b43e20>"
      ]
     },
     "execution_count": 6,
     "metadata": {},
     "output_type": "execute_result"
    }
   ],
   "source": [
    "reloaded_model"
   ]
  },
  {
   "cell_type": "markdown",
   "id": "4960d6e2",
   "metadata": {},
   "source": [
    "## Label data with maturity classification"
   ]
  },
  {
   "cell_type": "code",
   "execution_count": 7,
   "id": "fae69321",
   "metadata": {},
   "outputs": [],
   "source": [
    "complete = pd.read_csv('data/inclusions.csv', index_col=0)"
   ]
  },
  {
   "cell_type": "code",
   "execution_count": 8,
   "id": "8f073f81-9bcf-43f0-8c55-374d988fc7fd",
   "metadata": {},
   "outputs": [],
   "source": [
    "#My version of the DF didn't have the 'feature' columns so made it here\n",
    "#complete['feature'] = (complete.title + ' ' + complete.abstract)"
   ]
  },
  {
   "cell_type": "code",
   "execution_count": 9,
   "id": "0e4cc1f1",
   "metadata": {},
   "outputs": [
    {
     "name": "stdout",
     "output_type": "stream",
     "text": [
      "<class 'pandas.core.frame.DataFrame'>\n",
      "Int64Index: 42307 entries, 1 to 192947\n",
      "Data columns (total 19 columns):\n",
      " #   Column            Non-Null Count  Dtype  \n",
      "---  ------            --------------  -----  \n",
      " 0   pmid              42307 non-null  int64  \n",
      " 1   doi               37409 non-null  object \n",
      " 2   title             42306 non-null  object \n",
      " 3   abstract          42307 non-null  object \n",
      " 4   article_date      32669 non-null  object \n",
      " 5   pubmed_date       42307 non-null  object \n",
      " 6   article_type      42307 non-null  object \n",
      " 7   lang              42307 non-null  object \n",
      " 8   journal           42307 non-null  object \n",
      " 9   journal_short     42307 non-null  object \n",
      " 10  journal_country   42307 non-null  object \n",
      " 11  authors           41281 non-null  object \n",
      " 12  author_affils     31156 non-null  object \n",
      " 13  keywords          24364 non-null  object \n",
      " 14  mesh_terms        32535 non-null  object \n",
      " 15  references_pmids  21512 non-null  object \n",
      " 16  feature           42307 non-null  object \n",
      " 17  year              42307 non-null  int64  \n",
      " 18  include           42307 non-null  float64\n",
      "dtypes: float64(1), int64(2), object(16)\n",
      "memory usage: 6.5+ MB\n"
     ]
    }
   ],
   "source": [
    "complete.info()"
   ]
  },
  {
   "cell_type": "code",
   "execution_count": 10,
   "id": "db8f2fe5",
   "metadata": {},
   "outputs": [
    {
     "data": {
      "text/html": [
       "<div>\n",
       "<style scoped>\n",
       "    .dataframe tbody tr th:only-of-type {\n",
       "        vertical-align: middle;\n",
       "    }\n",
       "\n",
       "    .dataframe tbody tr th {\n",
       "        vertical-align: top;\n",
       "    }\n",
       "\n",
       "    .dataframe thead th {\n",
       "        text-align: right;\n",
       "    }\n",
       "</style>\n",
       "<table border=\"1\" class=\"dataframe\">\n",
       "  <thead>\n",
       "    <tr style=\"text-align: right;\">\n",
       "      <th></th>\n",
       "      <th>feature</th>\n",
       "    </tr>\n",
       "  </thead>\n",
       "  <tbody>\n",
       "    <tr>\n",
       "      <th>192918</th>\n",
       "      <td>TACHY: an expert system for the management of ...</td>\n",
       "    </tr>\n",
       "    <tr>\n",
       "      <th>192924</th>\n",
       "      <td>Detection of ECG waveforms by neural networks....</td>\n",
       "    </tr>\n",
       "    <tr>\n",
       "      <th>192928</th>\n",
       "      <td>Neural network analysis of breast cancer from ...</td>\n",
       "    </tr>\n",
       "    <tr>\n",
       "      <th>192929</th>\n",
       "      <td>Automated classification of patients with chro...</td>\n",
       "    </tr>\n",
       "    <tr>\n",
       "      <th>192932</th>\n",
       "      <td>On the use of neural network techniques to ana...</td>\n",
       "    </tr>\n",
       "    <tr>\n",
       "      <th>192933</th>\n",
       "      <td>Analysis of quantitative EEG with artificial n...</td>\n",
       "    </tr>\n",
       "    <tr>\n",
       "      <th>192935</th>\n",
       "      <td>Neural networks as a prognostic tool for patie...</td>\n",
       "    </tr>\n",
       "    <tr>\n",
       "      <th>192939</th>\n",
       "      <td>Automated interpretation of myocardial SPECT p...</td>\n",
       "    </tr>\n",
       "    <tr>\n",
       "      <th>192946</th>\n",
       "      <td>Acute pulmonary embolism: cost-effectiveness a...</td>\n",
       "    </tr>\n",
       "    <tr>\n",
       "      <th>192947</th>\n",
       "      <td>Algorithm analysis of lectin glycohistochemist...</td>\n",
       "    </tr>\n",
       "  </tbody>\n",
       "</table>\n",
       "</div>"
      ],
      "text/plain": [
       "                                                  feature\n",
       "192918  TACHY: an expert system for the management of ...\n",
       "192924  Detection of ECG waveforms by neural networks....\n",
       "192928  Neural network analysis of breast cancer from ...\n",
       "192929  Automated classification of patients with chro...\n",
       "192932  On the use of neural network techniques to ana...\n",
       "192933  Analysis of quantitative EEG with artificial n...\n",
       "192935  Neural networks as a prognostic tool for patie...\n",
       "192939  Automated interpretation of myocardial SPECT p...\n",
       "192946  Acute pulmonary embolism: cost-effectiveness a...\n",
       "192947  Algorithm analysis of lectin glycohistochemist..."
      ]
     },
     "execution_count": 10,
     "metadata": {},
     "output_type": "execute_result"
    }
   ],
   "source": [
    "labeldf = complete[['feature']].copy()\n",
    "labeldf.tail(10)"
   ]
  },
  {
   "cell_type": "code",
   "execution_count": 11,
   "id": "675e5597",
   "metadata": {},
   "outputs": [
    {
     "data": {
      "text/html": [
       "<div>\n",
       "<style scoped>\n",
       "    .dataframe tbody tr th:only-of-type {\n",
       "        vertical-align: middle;\n",
       "    }\n",
       "\n",
       "    .dataframe tbody tr th {\n",
       "        vertical-align: top;\n",
       "    }\n",
       "\n",
       "    .dataframe thead th {\n",
       "        text-align: right;\n",
       "    }\n",
       "</style>\n",
       "<table border=\"1\" class=\"dataframe\">\n",
       "  <thead>\n",
       "    <tr style=\"text-align: right;\">\n",
       "      <th></th>\n",
       "      <th>feature</th>\n",
       "    </tr>\n",
       "  </thead>\n",
       "  <tbody>\n",
       "  </tbody>\n",
       "</table>\n",
       "</div>"
      ],
      "text/plain": [
       "Empty DataFrame\n",
       "Columns: [feature]\n",
       "Index: []"
      ]
     },
     "execution_count": 11,
     "metadata": {},
     "output_type": "execute_result"
    }
   ],
   "source": [
    "labeldf[labeldf['feature'].isna()]"
   ]
  },
  {
   "cell_type": "code",
   "execution_count": 12,
   "id": "af082ac8",
   "metadata": {},
   "outputs": [
    {
     "data": {
      "text/html": [
       "<div>\n",
       "<style scoped>\n",
       "    .dataframe tbody tr th:only-of-type {\n",
       "        vertical-align: middle;\n",
       "    }\n",
       "\n",
       "    .dataframe tbody tr th {\n",
       "        vertical-align: top;\n",
       "    }\n",
       "\n",
       "    .dataframe thead th {\n",
       "        text-align: right;\n",
       "    }\n",
       "</style>\n",
       "<table border=\"1\" class=\"dataframe\">\n",
       "  <thead>\n",
       "    <tr style=\"text-align: right;\">\n",
       "      <th></th>\n",
       "      <th>feature</th>\n",
       "    </tr>\n",
       "  </thead>\n",
       "  <tbody>\n",
       "  </tbody>\n",
       "</table>\n",
       "</div>"
      ],
      "text/plain": [
       "Empty DataFrame\n",
       "Columns: [feature]\n",
       "Index: []"
      ]
     },
     "execution_count": 12,
     "metadata": {},
     "output_type": "execute_result"
    }
   ],
   "source": [
    "labeldf.dropna(subset=['feature'], inplace=True)\n",
    "labeldf[labeldf['feature'].isna()]"
   ]
  },
  {
   "cell_type": "code",
   "execution_count": 13,
   "id": "0072007f-3b05-42f6-9ceb-bf57ee5bedd3",
   "metadata": {},
   "outputs": [
    {
     "name": "stdout",
     "output_type": "stream",
     "text": [
      "<class 'pandas.core.frame.DataFrame'>\n",
      "Int64Index: 42307 entries, 1 to 192947\n",
      "Data columns (total 1 columns):\n",
      " #   Column   Non-Null Count  Dtype \n",
      "---  ------   --------------  ----- \n",
      " 0   feature  42307 non-null  object\n",
      "dtypes: object(1)\n",
      "memory usage: 661.0+ KB\n"
     ]
    }
   ],
   "source": [
    "labeldf.info()"
   ]
  },
  {
   "cell_type": "code",
   "execution_count": 14,
   "id": "e5c373d2-5661-4b76-86b5-845f4878cbcf",
   "metadata": {},
   "outputs": [],
   "source": [
    "def label_unlabelled(df, feature_column = 'feature', model=reloaded_model, number_to_label='all', cpu_labelling=False, chunk_size=100):\n",
    "    \n",
    "    # Either use the whole df, random sample of size specified or a list of indices\n",
    "    if number_to_label == 'all':\n",
    "        labelled_df = df[feature_column].copy()\n",
    "        \n",
    "    elif isinstance(number_to_label, list):\n",
    "        labelled_df = df.loc[number_to_label, feature_column].copy()\n",
    "        \n",
    "    else:\n",
    "        assert isinstance(number_to_label, int), \"Number to label must be 'all' or an integer subset to label\"\n",
    "        assert number_to_label < len(df), \"When specifying a subset to label, must be less than the total number of samples\"\n",
    "        labelled_df = df[feature_column].sample(number_to_label).copy()\n",
    "        \n",
    "    # Add a column to the DF for labels\n",
    "    labelled_df = labelled_df.to_frame()\n",
    "    labelled_df['include'] = np.nan \n",
    "    \n",
    "    # Decide what device we want TF to use\n",
    "    if cpu_labelling:\n",
    "        device = '/cpu:0'\n",
    "        print(\"Labelling with CPU...\")\n",
    "    else:\n",
    "        device = '/gpu:0'\n",
    "        print(\"Labelling with GPU...\")\n",
    "     \n",
    "    # Label by specified chunk size\n",
    "    with tqdm(total=len(labelled_df), file=sys.stdout) as pbar:\n",
    "        for chunk_i in range(0, len(labelled_df.index), chunk_size):\n",
    "            \n",
    "            chunk = labelled_df.index[chunk_i:chunk_i + chunk_size]\n",
    "        \n",
    "            try:\n",
    "                with tf.device(device):\n",
    "                    labels = tf.sigmoid(model(tf.constant(labelled_df.loc[chunk, 'feature'])))\n",
    "                labelled_df.loc[chunk, 'include'] = labels\n",
    "                pbar.update(len(chunk))\n",
    "            except Exception as e:\n",
    "                print(e)\n",
    "                print(\"Returning (possibly) partially labelled dataset...\")\n",
    "                return labelled_df\n",
    "                break\n",
    "            \n",
    "    return labelled_df"
   ]
  },
  {
   "cell_type": "code",
   "execution_count": 15,
   "id": "fa0263ad-40f1-42cf-9f5e-7928f9f7bf7c",
   "metadata": {},
   "outputs": [
    {
     "name": "stdout",
     "output_type": "stream",
     "text": [
      "Labelling with GPU...\n",
      "100%|████████████████████████████████████████████████████████████████████████████| 42307/42307 [08:51<00:00, 79.66it/s]\n"
     ]
    }
   ],
   "source": [
    "labelled = label_unlabelled(labeldf, number_to_label='all', cpu_labelling=False, chunk_size=50)"
   ]
  },
  {
   "cell_type": "code",
   "execution_count": 16,
   "id": "496dbd2b-1b2a-4c20-b401-7ce855c838b7",
   "metadata": {},
   "outputs": [
    {
     "data": {
      "text/html": [
       "<div>\n",
       "<style scoped>\n",
       "    .dataframe tbody tr th:only-of-type {\n",
       "        vertical-align: middle;\n",
       "    }\n",
       "\n",
       "    .dataframe tbody tr th {\n",
       "        vertical-align: top;\n",
       "    }\n",
       "\n",
       "    .dataframe thead th {\n",
       "        text-align: right;\n",
       "    }\n",
       "</style>\n",
       "<table border=\"1\" class=\"dataframe\">\n",
       "  <thead>\n",
       "    <tr style=\"text-align: right;\">\n",
       "      <th></th>\n",
       "      <th>feature</th>\n",
       "      <th>include</th>\n",
       "    </tr>\n",
       "  </thead>\n",
       "  <tbody>\n",
       "    <tr>\n",
       "      <th>16</th>\n",
       "      <td>Validation of a deep learning segmentation alg...</td>\n",
       "      <td>0.874530</td>\n",
       "    </tr>\n",
       "    <tr>\n",
       "      <th>31</th>\n",
       "      <td>Impact of Artificial Intelligence on Miss Rate...</td>\n",
       "      <td>0.858973</td>\n",
       "    </tr>\n",
       "    <tr>\n",
       "      <th>69</th>\n",
       "      <td>Artificial intelligence assistance in radiogra...</td>\n",
       "      <td>0.308002</td>\n",
       "    </tr>\n",
       "    <tr>\n",
       "      <th>77</th>\n",
       "      <td>Fully automated deep learning powered calcium ...</td>\n",
       "      <td>0.411124</td>\n",
       "    </tr>\n",
       "    <tr>\n",
       "      <th>201</th>\n",
       "      <td>Prediction of Aortic Contrast Enhancement on D...</td>\n",
       "      <td>0.290394</td>\n",
       "    </tr>\n",
       "    <tr>\n",
       "      <th>230</th>\n",
       "      <td>Federated learning for multi-center collaborat...</td>\n",
       "      <td>0.363134</td>\n",
       "    </tr>\n",
       "    <tr>\n",
       "      <th>282</th>\n",
       "      <td>Using a Convolutional Neural Network and Convo...</td>\n",
       "      <td>0.298519</td>\n",
       "    </tr>\n",
       "    <tr>\n",
       "      <th>373</th>\n",
       "      <td>Scrutinizing high-risk patients from ASC-US cy...</td>\n",
       "      <td>0.872286</td>\n",
       "    </tr>\n",
       "    <tr>\n",
       "      <th>457</th>\n",
       "      <td>Optimizing the radiomics-machine-learning mode...</td>\n",
       "      <td>0.713625</td>\n",
       "    </tr>\n",
       "    <tr>\n",
       "      <th>467</th>\n",
       "      <td>Unenhanced abdominal low-dose CT reconstructed...</td>\n",
       "      <td>0.827257</td>\n",
       "    </tr>\n",
       "    <tr>\n",
       "      <th>475</th>\n",
       "      <td>Artificial intelligence can detect left ventri...</td>\n",
       "      <td>0.484066</td>\n",
       "    </tr>\n",
       "    <tr>\n",
       "      <th>509</th>\n",
       "      <td>An automated quantification method for the Aga...</td>\n",
       "      <td>0.469145</td>\n",
       "    </tr>\n",
       "    <tr>\n",
       "      <th>676</th>\n",
       "      <td>Real-world evaluation of rapid and laboratory-...</td>\n",
       "      <td>0.508614</td>\n",
       "    </tr>\n",
       "    <tr>\n",
       "      <th>708</th>\n",
       "      <td>Deep learning-based attenuation correction for...</td>\n",
       "      <td>0.104890</td>\n",
       "    </tr>\n",
       "    <tr>\n",
       "      <th>846</th>\n",
       "      <td>Performance of a Machine-Learning Computationa...</td>\n",
       "      <td>0.209581</td>\n",
       "    </tr>\n",
       "    <tr>\n",
       "      <th>878</th>\n",
       "      <td>Artificial Intelligence-Powered Spatial Analys...</td>\n",
       "      <td>0.192259</td>\n",
       "    </tr>\n",
       "    <tr>\n",
       "      <th>987</th>\n",
       "      <td>Data-Driven Prediction for COVID-19 Severity i...</td>\n",
       "      <td>0.134163</td>\n",
       "    </tr>\n",
       "    <tr>\n",
       "      <th>1032</th>\n",
       "      <td>Combined Coronary CT-Angiography and TAVI Plan...</td>\n",
       "      <td>0.851382</td>\n",
       "    </tr>\n",
       "    <tr>\n",
       "      <th>1042</th>\n",
       "      <td>A Novel and Automated Approach to Classify Rad...</td>\n",
       "      <td>0.617212</td>\n",
       "    </tr>\n",
       "    <tr>\n",
       "      <th>1081</th>\n",
       "      <td>A machine learning-based clinical decision sup...</td>\n",
       "      <td>0.425939</td>\n",
       "    </tr>\n",
       "  </tbody>\n",
       "</table>\n",
       "</div>"
      ],
      "text/plain": [
       "                                                feature   include\n",
       "16    Validation of a deep learning segmentation alg...  0.874530\n",
       "31    Impact of Artificial Intelligence on Miss Rate...  0.858973\n",
       "69    Artificial intelligence assistance in radiogra...  0.308002\n",
       "77    Fully automated deep learning powered calcium ...  0.411124\n",
       "201   Prediction of Aortic Contrast Enhancement on D...  0.290394\n",
       "230   Federated learning for multi-center collaborat...  0.363134\n",
       "282   Using a Convolutional Neural Network and Convo...  0.298519\n",
       "373   Scrutinizing high-risk patients from ASC-US cy...  0.872286\n",
       "457   Optimizing the radiomics-machine-learning mode...  0.713625\n",
       "467   Unenhanced abdominal low-dose CT reconstructed...  0.827257\n",
       "475   Artificial intelligence can detect left ventri...  0.484066\n",
       "509   An automated quantification method for the Aga...  0.469145\n",
       "676   Real-world evaluation of rapid and laboratory-...  0.508614\n",
       "708   Deep learning-based attenuation correction for...  0.104890\n",
       "846   Performance of a Machine-Learning Computationa...  0.209581\n",
       "878   Artificial Intelligence-Powered Spatial Analys...  0.192259\n",
       "987   Data-Driven Prediction for COVID-19 Severity i...  0.134163\n",
       "1032  Combined Coronary CT-Angiography and TAVI Plan...  0.851382\n",
       "1042  A Novel and Automated Approach to Classify Rad...  0.617212\n",
       "1081  A machine learning-based clinical decision sup...  0.425939"
      ]
     },
     "execution_count": 16,
     "metadata": {},
     "output_type": "execute_result"
    }
   ],
   "source": [
    "uncertain = labelled[(labelled.include < 0.9) & (labelled.include > 0.1)]\n",
    "uncertain.head(20)"
   ]
  },
  {
   "cell_type": "code",
   "execution_count": 17,
   "id": "8783ef7c-1c62-4a8f-8966-df0d3e932a38",
   "metadata": {},
   "outputs": [],
   "source": [
    "labelled['include_rounded'] = np.round(labelled.include)"
   ]
  },
  {
   "cell_type": "code",
   "execution_count": 18,
   "id": "d49a1c98-2aee-410f-907a-69a0c2f1fb98",
   "metadata": {},
   "outputs": [
    {
     "data": {
      "text/plain": [
       "0.0    38781\n",
       "1.0     3526\n",
       "Name: include_rounded, dtype: int64"
      ]
     },
     "execution_count": 18,
     "metadata": {},
     "output_type": "execute_result"
    }
   ],
   "source": [
    "labelled.include_rounded.value_counts()"
   ]
  },
  {
   "cell_type": "code",
   "execution_count": 19,
   "id": "c53888ec",
   "metadata": {},
   "outputs": [
    {
     "data": {
      "text/html": [
       "<div>\n",
       "<style scoped>\n",
       "    .dataframe tbody tr th:only-of-type {\n",
       "        vertical-align: middle;\n",
       "    }\n",
       "\n",
       "    .dataframe tbody tr th {\n",
       "        vertical-align: top;\n",
       "    }\n",
       "\n",
       "    .dataframe thead th {\n",
       "        text-align: right;\n",
       "    }\n",
       "</style>\n",
       "<table border=\"1\" class=\"dataframe\">\n",
       "  <thead>\n",
       "    <tr style=\"text-align: right;\">\n",
       "      <th></th>\n",
       "      <th>feature</th>\n",
       "      <th>include</th>\n",
       "      <th>include_rounded</th>\n",
       "    </tr>\n",
       "  </thead>\n",
       "  <tbody>\n",
       "    <tr>\n",
       "      <th>192933</th>\n",
       "      <td>Analysis of quantitative EEG with artificial n...</td>\n",
       "      <td>0.000196</td>\n",
       "      <td>0.0</td>\n",
       "    </tr>\n",
       "    <tr>\n",
       "      <th>192935</th>\n",
       "      <td>Neural networks as a prognostic tool for patie...</td>\n",
       "      <td>0.000066</td>\n",
       "      <td>0.0</td>\n",
       "    </tr>\n",
       "    <tr>\n",
       "      <th>192939</th>\n",
       "      <td>Automated interpretation of myocardial SPECT p...</td>\n",
       "      <td>0.999428</td>\n",
       "      <td>1.0</td>\n",
       "    </tr>\n",
       "    <tr>\n",
       "      <th>192946</th>\n",
       "      <td>Acute pulmonary embolism: cost-effectiveness a...</td>\n",
       "      <td>0.210386</td>\n",
       "      <td>0.0</td>\n",
       "    </tr>\n",
       "    <tr>\n",
       "      <th>192947</th>\n",
       "      <td>Algorithm analysis of lectin glycohistochemist...</td>\n",
       "      <td>0.000411</td>\n",
       "      <td>0.0</td>\n",
       "    </tr>\n",
       "  </tbody>\n",
       "</table>\n",
       "</div>"
      ],
      "text/plain": [
       "                                                  feature   include  \\\n",
       "192933  Analysis of quantitative EEG with artificial n...  0.000196   \n",
       "192935  Neural networks as a prognostic tool for patie...  0.000066   \n",
       "192939  Automated interpretation of myocardial SPECT p...  0.999428   \n",
       "192946  Acute pulmonary embolism: cost-effectiveness a...  0.210386   \n",
       "192947  Algorithm analysis of lectin glycohistochemist...  0.000411   \n",
       "\n",
       "        include_rounded  \n",
       "192933              0.0  \n",
       "192935              0.0  \n",
       "192939              1.0  \n",
       "192946              0.0  \n",
       "192947              0.0  "
      ]
     },
     "execution_count": 19,
     "metadata": {},
     "output_type": "execute_result"
    }
   ],
   "source": [
    "labelled.tail(5)"
   ]
  },
  {
   "cell_type": "code",
   "execution_count": 20,
   "id": "4f525e80-e88c-41f4-b840-b2b951f47a24",
   "metadata": {},
   "outputs": [
    {
     "name": "stdout",
     "output_type": "stream",
     "text": [
      "<class 'pandas.core.frame.DataFrame'>\n",
      "Int64Index: 42307 entries, 1 to 192947\n",
      "Data columns (total 3 columns):\n",
      " #   Column           Non-Null Count  Dtype  \n",
      "---  ------           --------------  -----  \n",
      " 0   feature          42307 non-null  object \n",
      " 1   include          42307 non-null  float64\n",
      " 2   include_rounded  42307 non-null  float64\n",
      "dtypes: float64(2), object(1)\n",
      "memory usage: 2.3+ MB\n"
     ]
    }
   ],
   "source": [
    "labelled.info()"
   ]
  },
  {
   "cell_type": "code",
   "execution_count": 21,
   "id": "cc2b9d50",
   "metadata": {},
   "outputs": [
    {
     "data": {
      "text/html": [
       "<div>\n",
       "<style scoped>\n",
       "    .dataframe tbody tr th:only-of-type {\n",
       "        vertical-align: middle;\n",
       "    }\n",
       "\n",
       "    .dataframe tbody tr th {\n",
       "        vertical-align: top;\n",
       "    }\n",
       "\n",
       "    .dataframe thead th {\n",
       "        text-align: right;\n",
       "    }\n",
       "</style>\n",
       "<table border=\"1\" class=\"dataframe\">\n",
       "  <thead>\n",
       "    <tr style=\"text-align: right;\">\n",
       "      <th></th>\n",
       "      <th>pmid</th>\n",
       "      <th>doi</th>\n",
       "      <th>title</th>\n",
       "      <th>abstract</th>\n",
       "      <th>article_date</th>\n",
       "      <th>pubmed_date</th>\n",
       "      <th>article_type</th>\n",
       "      <th>lang</th>\n",
       "      <th>journal</th>\n",
       "      <th>journal_short</th>\n",
       "      <th>journal_country</th>\n",
       "      <th>authors</th>\n",
       "      <th>author_affils</th>\n",
       "      <th>keywords</th>\n",
       "      <th>mesh_terms</th>\n",
       "      <th>references_pmids</th>\n",
       "      <th>feature</th>\n",
       "      <th>year</th>\n",
       "      <th>include</th>\n",
       "    </tr>\n",
       "  </thead>\n",
       "  <tbody>\n",
       "    <tr>\n",
       "      <th>192933</th>\n",
       "      <td>9438271</td>\n",
       "      <td>NaN</td>\n",
       "      <td>Analysis of quantitative EEG with artificial n...</td>\n",
       "      <td>Artificial neural networks (ANN) are widely us...</td>\n",
       "      <td>NaN</td>\n",
       "      <td>1998-01-23</td>\n",
       "      <td>Clinical Trial</td>\n",
       "      <td>eng</td>\n",
       "      <td>Neuropsychobiology</td>\n",
       "      <td>Neuropsychobiology</td>\n",
       "      <td>Switzerland</td>\n",
       "      <td>['Winterer G', 'Ziller M', 'Klöppel B', 'Heinz...</td>\n",
       "      <td>NaN</td>\n",
       "      <td>NaN</td>\n",
       "      <td>['Alcoholism', 'Algorithms', 'Discriminant Ana...</td>\n",
       "      <td>NaN</td>\n",
       "      <td>Analysis of quantitative EEG with artificial n...</td>\n",
       "      <td>1998</td>\n",
       "      <td>1.0</td>\n",
       "    </tr>\n",
       "    <tr>\n",
       "      <th>192935</th>\n",
       "      <td>9436967</td>\n",
       "      <td>NaN</td>\n",
       "      <td>Neural networks as a prognostic tool for patie...</td>\n",
       "      <td>Patients with non-small cell carcinoma of the ...</td>\n",
       "      <td>NaN</td>\n",
       "      <td>1998-01-22</td>\n",
       "      <td>Journal Article</td>\n",
       "      <td>eng</td>\n",
       "      <td>Modern pathology : an official journal of the ...</td>\n",
       "      <td>Mod Pathol</td>\n",
       "      <td>United States</td>\n",
       "      <td>['Bellotti M', 'Elsner B', 'Paez De Lima A', '...</td>\n",
       "      <td>NaN</td>\n",
       "      <td>NaN</td>\n",
       "      <td>['Adenocarcinoma', 'Antigens, Nuclear', 'Bioma...</td>\n",
       "      <td>NaN</td>\n",
       "      <td>Neural networks as a prognostic tool for patie...</td>\n",
       "      <td>1998</td>\n",
       "      <td>1.0</td>\n",
       "    </tr>\n",
       "    <tr>\n",
       "      <th>192939</th>\n",
       "      <td>9430460</td>\n",
       "      <td>NaN</td>\n",
       "      <td>Automated interpretation of myocardial SPECT p...</td>\n",
       "      <td>The purpose of this study was to develop a com...</td>\n",
       "      <td>NaN</td>\n",
       "      <td>1998-01-16</td>\n",
       "      <td>Comparative Study</td>\n",
       "      <td>eng</td>\n",
       "      <td>Journal of nuclear medicine : official publica...</td>\n",
       "      <td>J Nucl Med</td>\n",
       "      <td>United States</td>\n",
       "      <td>['Lindahl D', 'Palmer J', 'Ohlsson M', 'Peters...</td>\n",
       "      <td>NaN</td>\n",
       "      <td>NaN</td>\n",
       "      <td>['Coronary Angiography', 'Coronary Disease', '...</td>\n",
       "      <td>NaN</td>\n",
       "      <td>Automated interpretation of myocardial SPECT p...</td>\n",
       "      <td>1998</td>\n",
       "      <td>1.0</td>\n",
       "    </tr>\n",
       "    <tr>\n",
       "      <th>192946</th>\n",
       "      <td>9423655</td>\n",
       "      <td>NaN</td>\n",
       "      <td>Acute pulmonary embolism: cost-effectiveness a...</td>\n",
       "      <td>To evaluate the cost-effectiveness of artifici...</td>\n",
       "      <td>NaN</td>\n",
       "      <td>1998-01-10</td>\n",
       "      <td>Journal Article</td>\n",
       "      <td>eng</td>\n",
       "      <td>Radiology</td>\n",
       "      <td>Radiology</td>\n",
       "      <td>United States</td>\n",
       "      <td>['Tourassi G D', 'Floyd C E', 'Coleman R E']</td>\n",
       "      <td>NaN</td>\n",
       "      <td>NaN</td>\n",
       "      <td>['Acute Disease', 'Angiography', 'Cost-Benefit...</td>\n",
       "      <td>NaN</td>\n",
       "      <td>Acute pulmonary embolism: cost-effectiveness a...</td>\n",
       "      <td>1998</td>\n",
       "      <td>1.0</td>\n",
       "    </tr>\n",
       "    <tr>\n",
       "      <th>192947</th>\n",
       "      <td>9415600</td>\n",
       "      <td>NaN</td>\n",
       "      <td>Algorithm analysis of lectin glycohistochemist...</td>\n",
       "      <td>The aim of this study is to present a new clas...</td>\n",
       "      <td>NaN</td>\n",
       "      <td>1998-01-10</td>\n",
       "      <td>Journal Article</td>\n",
       "      <td>eng</td>\n",
       "      <td>The Annals of otology, rhinology, and laryngology</td>\n",
       "      <td>Ann Otol Rhinol Laryngol</td>\n",
       "      <td>United States</td>\n",
       "      <td>['Hassid S', 'Decaestecker C', 'Hermans C', 'S...</td>\n",
       "      <td>NaN</td>\n",
       "      <td>NaN</td>\n",
       "      <td>['Algorithms', 'Coloring Agents', 'Decision Tr...</td>\n",
       "      <td>NaN</td>\n",
       "      <td>Algorithm analysis of lectin glycohistochemist...</td>\n",
       "      <td>1998</td>\n",
       "      <td>1.0</td>\n",
       "    </tr>\n",
       "  </tbody>\n",
       "</table>\n",
       "</div>"
      ],
      "text/plain": [
       "           pmid  doi                                              title  \\\n",
       "192933  9438271  NaN  Analysis of quantitative EEG with artificial n...   \n",
       "192935  9436967  NaN  Neural networks as a prognostic tool for patie...   \n",
       "192939  9430460  NaN  Automated interpretation of myocardial SPECT p...   \n",
       "192946  9423655  NaN  Acute pulmonary embolism: cost-effectiveness a...   \n",
       "192947  9415600  NaN  Algorithm analysis of lectin glycohistochemist...   \n",
       "\n",
       "                                                 abstract article_date  \\\n",
       "192933  Artificial neural networks (ANN) are widely us...          NaN   \n",
       "192935  Patients with non-small cell carcinoma of the ...          NaN   \n",
       "192939  The purpose of this study was to develop a com...          NaN   \n",
       "192946  To evaluate the cost-effectiveness of artifici...          NaN   \n",
       "192947  The aim of this study is to present a new clas...          NaN   \n",
       "\n",
       "       pubmed_date       article_type lang  \\\n",
       "192933  1998-01-23     Clinical Trial  eng   \n",
       "192935  1998-01-22    Journal Article  eng   \n",
       "192939  1998-01-16  Comparative Study  eng   \n",
       "192946  1998-01-10    Journal Article  eng   \n",
       "192947  1998-01-10    Journal Article  eng   \n",
       "\n",
       "                                                  journal  \\\n",
       "192933                                 Neuropsychobiology   \n",
       "192935  Modern pathology : an official journal of the ...   \n",
       "192939  Journal of nuclear medicine : official publica...   \n",
       "192946                                          Radiology   \n",
       "192947  The Annals of otology, rhinology, and laryngology   \n",
       "\n",
       "                   journal_short journal_country  \\\n",
       "192933        Neuropsychobiology     Switzerland   \n",
       "192935                Mod Pathol   United States   \n",
       "192939                J Nucl Med   United States   \n",
       "192946                 Radiology   United States   \n",
       "192947  Ann Otol Rhinol Laryngol   United States   \n",
       "\n",
       "                                                  authors author_affils  \\\n",
       "192933  ['Winterer G', 'Ziller M', 'Klöppel B', 'Heinz...           NaN   \n",
       "192935  ['Bellotti M', 'Elsner B', 'Paez De Lima A', '...           NaN   \n",
       "192939  ['Lindahl D', 'Palmer J', 'Ohlsson M', 'Peters...           NaN   \n",
       "192946       ['Tourassi G D', 'Floyd C E', 'Coleman R E']           NaN   \n",
       "192947  ['Hassid S', 'Decaestecker C', 'Hermans C', 'S...           NaN   \n",
       "\n",
       "       keywords                                         mesh_terms  \\\n",
       "192933      NaN  ['Alcoholism', 'Algorithms', 'Discriminant Ana...   \n",
       "192935      NaN  ['Adenocarcinoma', 'Antigens, Nuclear', 'Bioma...   \n",
       "192939      NaN  ['Coronary Angiography', 'Coronary Disease', '...   \n",
       "192946      NaN  ['Acute Disease', 'Angiography', 'Cost-Benefit...   \n",
       "192947      NaN  ['Algorithms', 'Coloring Agents', 'Decision Tr...   \n",
       "\n",
       "       references_pmids                                            feature  \\\n",
       "192933              NaN  Analysis of quantitative EEG with artificial n...   \n",
       "192935              NaN  Neural networks as a prognostic tool for patie...   \n",
       "192939              NaN  Automated interpretation of myocardial SPECT p...   \n",
       "192946              NaN  Acute pulmonary embolism: cost-effectiveness a...   \n",
       "192947              NaN  Algorithm analysis of lectin glycohistochemist...   \n",
       "\n",
       "        year  include  \n",
       "192933  1998      1.0  \n",
       "192935  1998      1.0  \n",
       "192939  1998      1.0  \n",
       "192946  1998      1.0  \n",
       "192947  1998      1.0  "
      ]
     },
     "execution_count": 21,
     "metadata": {},
     "output_type": "execute_result"
    }
   ],
   "source": [
    "#complete.dropna(subset=['feature'], inplace=True)\n",
    "complete.tail(5)"
   ]
  },
  {
   "cell_type": "code",
   "execution_count": 22,
   "id": "b01cfb07",
   "metadata": {},
   "outputs": [
    {
     "name": "stdout",
     "output_type": "stream",
     "text": [
      "42307\n",
      "42307\n"
     ]
    }
   ],
   "source": [
    "print(len(complete))\n",
    "print(len(labelled))"
   ]
  },
  {
   "cell_type": "code",
   "execution_count": 23,
   "id": "3199dc2b",
   "metadata": {},
   "outputs": [],
   "source": [
    "#complete['include_fuzzy'] = labelled['include']\n",
    "complete['mature'] = labelled['include_rounded']"
   ]
  },
  {
   "cell_type": "code",
   "execution_count": 24,
   "id": "a2590738",
   "metadata": {},
   "outputs": [],
   "source": [
    "# SAVE FINAL FILES"
   ]
  },
  {
   "cell_type": "code",
   "execution_count": 25,
   "id": "e85a6424",
   "metadata": {},
   "outputs": [],
   "source": [
    "#uncertain.to_csv(\"final_outputs/comparative_uncertain.csv\")"
   ]
  },
  {
   "cell_type": "code",
   "execution_count": 26,
   "id": "da63104c",
   "metadata": {},
   "outputs": [],
   "source": [
    "complete.to_csv(\"data/mature_labelled.csv\")"
   ]
  },
  {
   "cell_type": "code",
   "execution_count": 27,
   "id": "ce79c410",
   "metadata": {},
   "outputs": [
    {
     "data": {
      "text/plain": [
       "0.0    38781\n",
       "1.0     3526\n",
       "Name: mature, dtype: int64"
      ]
     },
     "execution_count": 27,
     "metadata": {},
     "output_type": "execute_result"
    }
   ],
   "source": [
    "complete['mature'].value_counts()"
   ]
  },
  {
   "cell_type": "code",
   "execution_count": null,
   "id": "05fd292d",
   "metadata": {},
   "outputs": [],
   "source": []
  }
 ],
 "metadata": {
  "kernelspec": {
   "display_name": "Python 3 (ipykernel)",
   "language": "python",
   "name": "python3"
  },
  "language_info": {
   "codemirror_mode": {
    "name": "ipython",
    "version": 3
   },
   "file_extension": ".py",
   "mimetype": "text/x-python",
   "name": "python",
   "nbconvert_exporter": "python",
   "pygments_lexer": "ipython3",
   "version": "3.9.5"
  }
 },
 "nbformat": 4,
 "nbformat_minor": 5
}
